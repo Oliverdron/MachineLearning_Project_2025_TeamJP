{
 "cells": [
  {
   "cell_type": "code",
   "execution_count": 21,
   "id": "20bfb536",
   "metadata": {},
   "outputs": [
    {
     "name": "stdout",
     "output_type": "stream",
     "text": [
      "\n",
      "Correlation Matrix:\n",
      "            Exposure   DrivAge    VehAge  BonusMalus   Density   ClaimNb\n",
      "Exposure    1.000000  0.171762  0.151645   -0.182715 -0.071148  0.069290\n",
      "DrivAge     0.171762  1.000000 -0.059785   -0.479640 -0.004418  0.011354\n",
      "VehAge      0.151645 -0.059785  1.000000    0.079740 -0.090440 -0.022305\n",
      "BonusMalus -0.182715 -0.479640  0.079740    1.000000  0.078604  0.049738\n",
      "Density    -0.071148 -0.004418 -0.090440    0.078604  1.000000  0.011443\n",
      "ClaimNb     0.069290  0.011354 -0.022305    0.049738  0.011443  1.000000\n",
      "\n",
      "Correlation Matrix:\n",
      "            Exposure   DrivAge    VehAge  BonusMalus   Density   ClaimNb\n",
      "Exposure    1.000000  0.172313  0.151194   -0.184229 -0.070838  0.067450\n",
      "DrivAge     0.172313  1.000000 -0.056940   -0.481271 -0.005842  0.011548\n",
      "VehAge      0.151194 -0.056940  1.000000    0.080655 -0.090393 -0.019687\n",
      "BonusMalus -0.184229 -0.481271  0.080655    1.000000  0.074135  0.053703\n",
      "Density    -0.070838 -0.005842 -0.090393    0.074135  1.000000  0.008063\n",
      "ClaimNb     0.067450  0.011548 -0.019687    0.053703  0.008063  1.000000\n"
     ]
    }
   ],
   "source": [
    "import pandas as pd\n",
    "import matplotlib.pyplot as plt\n",
    "from pathlib import Path\n",
    "import seaborn as sns\n",
    "\n",
    "PROJECT_ROOT = Path.cwd()  # current working directory (in jupiter we use this instead of __file__)\n",
    "TRAIN_PATH = PROJECT_ROOT / \"data\" / \"claims_train.csv\"\n",
    "TEST_PATH = PROJECT_ROOT / \"data\" / \"claims_test.csv\"\n",
    "\n",
    "#reading the csv file (training data)\n",
    "df_train = pd.read_csv(TRAIN_PATH)\n",
    "df_test = pd.read_csv(TEST_PATH)\n",
    "\n",
    "numeric_cols = [\"Exposure\", \"DrivAge\", \"VehAge\", \"BonusMalus\", \"Density\"]\n",
    "categorical_cols = [\"Region\", \"VehPower\", \"VehBrand\", \"VehGas\", \"Area\"]\n",
    "target = \"ClaimNb\"\n",
    "\n",
    "for data_frame in [df_train, df_test]:\n",
    "    #histograms for every column\n",
    "    # for column in data_frame.columns:\n",
    "    #     if column == 'IDpol':\n",
    "    #         continue  # Skip the IDpol column\n",
    "    #     data_frame[column].hist()\n",
    "    #     plt.title(column)\n",
    "    #     plt.show()\n",
    "        \n",
    "    #frequency of each value in each column\n",
    "    # freq_dict = {}\n",
    "\n",
    "    # for column in data_frame.columns:\n",
    "    #     if column == 'IDpol':\n",
    "    #         continue  # Skip the IDpol column\n",
    "    #     freq_dict[column] = data_frame[column].value_counts().to_dict()\n",
    "\n",
    "    # Example: print frequencies for one column\n",
    "    # for col, freqs in freq_dict.items():\n",
    "    #     print(f\"\\nColumn: {col}\")\n",
    "    #     print(freqs)\n",
    "\n",
    "\n",
    "    # Create boxplots\n",
    "    # for col in numeric_cols:\n",
    "    #     plt.figure(figsize=(6, 4))\n",
    "    #     data_frame.boxplot(column=col, by=target)\n",
    "    #     plt.title(f\"{col} by {target}\")\n",
    "    #     plt.suptitle(\"\")  # remove automatic title\n",
    "    #     plt.xlabel(target)\n",
    "    #     plt.ylabel(col)\n",
    "    #     plt.tight_layout()\n",
    "    #     plt.show()\n",
    "\n",
    "    # Correlation matrix\n",
    "    df = data_frame[numeric_cols + [target]]\n",
    "    correlation_matrix = df.corr()\n",
    "    print(\"\\nCorrelation Matrix:\")\n",
    "    print(correlation_matrix)\n",
    "\n"
   ]
  }
 ],
 "metadata": {
  "kernelspec": {
   "display_name": "ml",
   "language": "python",
   "name": "python3"
  },
  "language_info": {
   "codemirror_mode": {
    "name": "ipython",
    "version": 3
   },
   "file_extension": ".py",
   "mimetype": "text/x-python",
   "name": "python",
   "nbconvert_exporter": "python",
   "pygments_lexer": "ipython3",
   "version": "3.13.5"
  }
 },
 "nbformat": 4,
 "nbformat_minor": 5
}
